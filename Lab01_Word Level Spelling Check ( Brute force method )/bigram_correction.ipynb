{
 "cells": [
  {
   "cell_type": "markdown",
   "metadata": {},
   "source": [
    "## 得出 bigram + unigram 的次數集合"
   ]
  },
  {
   "cell_type": "code",
   "execution_count": 1,
   "metadata": {
    "scrolled": true
   },
   "outputs": [],
   "source": [
    "import re\n",
    "from collections import Counter\n",
    "\n",
    "# 只挑出文字不包含標點符號\n",
    "def words(text): return re.findall(r'\\w+', text.lower())\n",
    "\n",
    "\n",
    "def sub_punctuation_mark(text):\n",
    "    return re.sub(\"[\\s+\\.\\!\\/_,$%^*(+\\\"\\')]+|[+——()?【】“”！，。？、~@#￥%……&*（）]+\", \" \",text.lower())\n",
    "\n",
    "# 將[1:]和[:-1]zip再一起可以得到bigram\n",
    "def create_bigrams(text): \n",
    "    bigrams = []\n",
    "    for sentence in text.split('\\n'):\n",
    "        sentence = sub_punctuation_mark(sentence).strip()\n",
    "        if sentence.split(\" \")[:-1] != '' and sentence.split(\" \")[1:] != '':\n",
    "            for b in zip(sentence.split(\" \")[:-1], sentence.split(\" \")[1:]):\n",
    "                 bigrams.append(b)\n",
    "    return bigrams\n",
    "\n",
    "BIGRAMS = Counter(create_bigrams(open('big.txt').read()))           \n",
    "WORDS = Counter(words(open('big.txt').read()))\n",
    "BIGRAMS_WORDS = BIGRAMS + WORDS"
   ]
  },
  {
   "cell_type": "code",
   "execution_count": 2,
   "metadata": {},
   "outputs": [
    {
     "name": "stdout",
     "output_type": "stream",
     "text": [
      "355138\n",
      "32198\n"
     ]
    }
   ],
   "source": [
    "print(len(BIGRAMS))\n",
    "print(len(WORDS))"
   ]
  },
  {
   "cell_type": "markdown",
   "metadata": {},
   "source": [
    "## 得出所有ipnut所有組合，並選用known中出現機率最高的更正選項"
   ]
  },
  {
   "cell_type": "code",
   "execution_count": 4,
   "metadata": {},
   "outputs": [],
   "source": [
    "def P(word, N=sum(BIGRAMS_WORDS.values())): \n",
    "    \"Probability of `word`.\"\n",
    "    return BIGRAMS_WORDS[word] / N\n",
    "\n",
    "def correction(word): \n",
    "    \"Most probable spelling correction for word.\"\n",
    "    return max(candidates(word), key=P)\n",
    "\n",
    "# bigram 第一個、第二個字各 edit 一次\n",
    "def bigram_edits1(t):\n",
    "    tuple_set = set()\n",
    "    for first in edits1(t[0]):\n",
    "        for second in edits1(t[1]):\n",
    "            tuple_set.add((first,second))\n",
    "    return tuple_set\n",
    "\n",
    "def edits1(word):\n",
    "    \"All edits that are one edit away from `word`.\"\n",
    "    letters    = 'abcdefghijklmnopqrstuvwxyz'\n",
    "    splits     = [(word[:i], word[i:])    for i in range(len(word) + 1)]\n",
    "    deletes    = [L + R[1:]               for L, R in splits if R]\n",
    "    transposes = [L + R[1] + R[0] + R[2:] for L, R in splits if len(R)>1]\n",
    "    replaces   = [L + c + R[1:]           for L, R in splits if R for c in letters]\n",
    "    inserts    = [L + c + R               for L, R in splits for c in letters]\n",
    "    return set(deletes + transposes + replaces + inserts)\n",
    "\n",
    "def edits2(word): \n",
    "    \"All edits that are two edits away from `word`.\"\n",
    "    return (e2 for e1 in edits1(word) for e2 in edits1(e1))\n",
    "\n",
    "def known(words): \n",
    "    \"The subset of `words` that appear in the dictionary of WORDS.\"\n",
    "    return set(w for w in words if w in BIGRAMS_WORDS)\n",
    "\n",
    "def candidates(word):\n",
    "    \"Generate possible spelling corrections for word.\"\n",
    "    split_word = word.split(' ')\n",
    "    if len(split_word)==1:\n",
    "        return (known([word]) or known(edits1(word)) or [word])\n",
    "    else:\n",
    "        word = (split_word[0],split_word[1])\n",
    "        ed1 = known(bigram_edits1(word))\n",
    "        return (known([word]) or ed1 or [word])"
   ]
  },
  {
   "cell_type": "code",
   "execution_count": 5,
   "metadata": {},
   "outputs": [
    {
     "data": {
      "text/plain": [
       "('prepared', 'by')"
      ]
     },
     "execution_count": 5,
     "metadata": {},
     "output_type": "execute_result"
    }
   ],
   "source": [
    "correction('prepareq my')"
   ]
  },
  {
   "cell_type": "code",
   "execution_count": 10,
   "metadata": {},
   "outputs": [
    {
     "data": {
      "text/plain": [
       "('seem', 'to')"
      ]
     },
     "execution_count": 10,
     "metadata": {},
     "output_type": "execute_result"
    }
   ],
   "source": [
    "correction('see yo')"
   ]
  },
  {
   "cell_type": "code",
   "execution_count": null,
   "metadata": {},
   "outputs": [],
   "source": []
  }
 ],
 "metadata": {
  "kernelspec": {
   "display_name": "Python 3",
   "language": "python",
   "name": "python3"
  },
  "language_info": {
   "codemirror_mode": {
    "name": "ipython",
    "version": 3
   },
   "file_extension": ".py",
   "mimetype": "text/x-python",
   "name": "python",
   "nbconvert_exporter": "python",
   "pygments_lexer": "ipython3",
   "version": "3.6.5"
  }
 },
 "nbformat": 4,
 "nbformat_minor": 2
}

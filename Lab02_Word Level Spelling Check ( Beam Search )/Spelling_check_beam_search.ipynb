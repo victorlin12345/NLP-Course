{
 "cells": [
  {
   "cell_type": "markdown",
   "metadata": {},
   "source": [
    "# pseudocode"
   ]
  },
  {
   "cell_type": "raw",
   "metadata": {},
   "source": [
    "def correction(word):\n",
    "    states = [ <initial state> ]\n",
    "    for i in range(len(word)):\n",
    "        print(i, states[:3])\n",
    "        STATES = < map the next_states function to each state in STATES\n",
    "         to get a list (of lists) of states>\n",
    "        <Combine states with the same L and R so the #edit is minimized>\n",
    "        <Sort the states in STATES in increasing values of #edit first and\n",
    "         then decreasing probability of state>\n",
    "        <Prune STATES, leaving at most MAXBEAM number of states>\n",
    "    <Filter STATES and keep only states with #edit==0 or probability>0>\n",
    "    <If there are some plausible edited results (#edit>0 and probability>0\n",
    "     then remove the state with #edit==0>\n",
    "    return <the first three of plausible corrections sorted by probability>\n"
   ]
  },
  {
   "cell_type": "markdown",
   "metadata": {},
   "source": [
    "## 1. Word probability"
   ]
  },
  {
   "cell_type": "code",
   "execution_count": 1,
   "metadata": {},
   "outputs": [],
   "source": [
    "import re\n",
    "from collections import Counter\n",
    "\n",
    "def words(text): return re.findall(r'\\w+', text.lower())\n",
    "\n",
    "WORDS = Counter(words(open('big.txt').read()))\n",
    "\n",
    "def P(word, N=sum(WORDS.values())): \n",
    "    \"Probability of `word`.\"\n",
    "    return WORDS[word] / N"
   ]
  },
  {
   "cell_type": "markdown",
   "metadata": {},
   "source": [
    "## 2.Write a next-state function"
   ]
  },
  {
   "cell_type": "code",
   "execution_count": 2,
   "metadata": {},
   "outputs": [],
   "source": [
    "letters    = 'abcdefghijklmnopqrstuvwxyz'\n",
    "# state 是一個tuple\n",
    "def next_states(state):\n",
    "    # appearant\n",
    "    L, R, edit, prob = state\n",
    "    R0, R1 = R[0], R[1:]\n",
    "    if edit == 2: return [(L+R0,R1,edit,prob)]\n",
    "    # ('a', 'ppearant', 0, 0.0)\n",
    "    noedit = [(L+R0, R1, edit, prob)]\n",
    "    # ('', 'ppearant', 1, 0.0) \n",
    "    delete = [(L, R1, edit + 1, P((L + R1)))]\n",
    "    #('a', 'ppearant', 1, 0.0)\n",
    "    replace = [(L + c, R1, edit + 1, P((L + c + R1))) for c in letters]\n",
    "    #('aa', 'ppearant', 1, 0.0)          \n",
    "    insert  = [(L + R0 + c, R1, edit + 1, P((L + R0 + c + R1))) for c in letters]\n",
    "    return noedit + delete + replace + insert \n"
   ]
  },
  {
   "cell_type": "markdown",
   "metadata": {},
   "source": [
    "### Combine states with the same L and R so the edit is minimized"
   ]
  },
  {
   "cell_type": "code",
   "execution_count": 3,
   "metadata": {},
   "outputs": [],
   "source": [
    "def combine_L_R(states):\n",
    "    word_tuple = {}\n",
    "    for L, R, edit, Prob in states:\n",
    "        word = L + R\n",
    "        if word not in word_tuple:\n",
    "            word_tuple[word] = (L, R, edit, Prob)\n",
    "#         elif Prob < word_tuple[word][2]:\n",
    "#             word_tuple[word] = (L, R, Prob)\n",
    "    return list(word_tuple.values())  \n",
    "# pprint(combine_L_R(next_states(('', 'appearant', 0, P('appearant')))))"
   ]
  },
  {
   "cell_type": "markdown",
   "metadata": {},
   "source": [
    "### Sort the states in STATES in increasing values of edit  then decreasing probability of state"
   ]
  },
  {
   "cell_type": "code",
   "execution_count": 4,
   "metadata": {},
   "outputs": [],
   "source": [
    "from operator import itemgetter\n",
    "\n",
    "def sort_state(states):\n",
    "    sorted_by_prob = sorted(states,key=itemgetter(3),reverse = True)\n",
    "    return sorted(sorted_by_prob,key=itemgetter(2))"
   ]
  },
  {
   "cell_type": "markdown",
   "metadata": {},
   "source": [
    "### Filter STATES and keep only states with edit==0 or probability>0"
   ]
  },
  {
   "cell_type": "code",
   "execution_count": 5,
   "metadata": {},
   "outputs": [],
   "source": [
    "def filter_state(states):\n",
    "    for state in states:\n",
    "        if (state[2] != 0) or (state[3] <= 0):\n",
    "            del state \n",
    "    return states"
   ]
  },
  {
   "cell_type": "code",
   "execution_count": 6,
   "metadata": {},
   "outputs": [
    {
     "name": "stdout",
     "output_type": "stream",
     "text": [
      "[('appearance', '', 2, 0.00012101274219355764),\n",
      " ('apparent', '', 2, 3.764840868244015e-05),\n",
      " ('appearing', '', 2, 2.061698570705056e-05)]\n"
     ]
    }
   ],
   "source": [
    "MAXBEAM = 500\n",
    "from pprint import pprint\n",
    "def correction(word):\n",
    "    states = [(\"\", word, 0, P(word))]\n",
    "    for i in range(len(word)):\n",
    "        # print(i, states[:3])\n",
    "        states = [ state for states in map(next_states, states) for state in states ]\n",
    "        states = combine_L_R(states)     \n",
    "        states = sort_state(states)[:MAXBEAM]\n",
    "    filter_state(states)\n",
    "    \n",
    "    if len(states)>1:\n",
    "        for s in states:\n",
    "            if s[2] == 0:\n",
    "                del s\n",
    "\n",
    "    states = sorted(states, key=lambda x: x[3], reverse=True)\n",
    "    return states[:3]\n",
    "    \n",
    "pprint(correction('appearant'))"
   ]
  },
  {
   "cell_type": "code",
   "execution_count": 7,
   "metadata": {},
   "outputs": [
    {
     "name": "stdout",
     "output_type": "stream",
     "text": [
      "[('written', '', 2, 0.00010487770990108329),\n",
      " ('writing', '', 2, 6.185095712115169e-05),\n",
      " ('writhing', '', 2, 3.585562731660967e-06)]\n"
     ]
    }
   ],
   "source": [
    "pprint(correction('writtung'))"
   ]
  },
  {
   "cell_type": "code",
   "execution_count": 8,
   "metadata": {},
   "outputs": [
    {
     "name": "stdout",
     "output_type": "stream",
     "text": [
      "[('and', '', 2, 0.03434251984384874),\n",
      " ('a', '', 2, 0.018935356785901566),\n",
      " ('was', '', 2, 0.010227817692062909)]\n"
     ]
    }
   ],
   "source": [
    "pprint(correction('bad'))"
   ]
  },
  {
   "cell_type": "code",
   "execution_count": 9,
   "metadata": {},
   "outputs": [
    {
     "name": "stdout",
     "output_type": "stream",
     "text": [
      "[('happy', '', 0, 0.00019541316887552272),\n",
      " ('happen', '', 2, 8.874267760860894e-05),\n",
      " ('apply', '', 2, 3.85447993653554e-05)]\n"
     ]
    }
   ],
   "source": [
    "pprint(correction('happy'))"
   ]
  },
  {
   "cell_type": "code",
   "execution_count": null,
   "metadata": {
    "collapsed": true
   },
   "outputs": [],
   "source": []
  }
 ],
 "metadata": {
  "kernelspec": {
   "display_name": "Python 3",
   "language": "python",
   "name": "python3"
  },
  "language_info": {
   "codemirror_mode": {
    "name": "ipython",
    "version": 3
   },
   "file_extension": ".py",
   "mimetype": "text/x-python",
   "name": "python",
   "nbconvert_exporter": "python",
   "pygments_lexer": "ipython3",
   "version": "3.6.5"
  }
 },
 "nbformat": 4,
 "nbformat_minor": 2
}

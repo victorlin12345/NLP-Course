{
 "cells": [
  {
   "cell_type": "markdown",
   "metadata": {},
   "source": [
    "## Channel Probability"
   ]
  },
  {
   "cell_type": "code",
   "execution_count": 2,
   "metadata": {},
   "outputs": [],
   "source": [
    "count = {}\n",
    "correct = {}\n",
    "for line in open('count_1edit.txt', 'r'):\n",
    "    w = line.split('\\t')[0].split('|')[0]\n",
    "    c = line.split('\\t')[0].split('|')[1]\n",
    "    p = int(line.split('\\t')[1].rstrip('\\n'))\n",
    "    count[(w,c)] = p\n",
    "    if c not in correct:\n",
    "        correct[c] = p\n",
    "    else:\n",
    "        correct[c] = correct[c] + p"
   ]
  },
  {
   "cell_type": "code",
   "execution_count": 3,
   "metadata": {},
   "outputs": [
    {
     "data": {
      "text/plain": [
       "1587"
      ]
     },
     "execution_count": 3,
     "metadata": {},
     "output_type": "execute_result"
    }
   ],
   "source": [
    "N_all = len(count.keys())\n",
    "N_all"
   ]
  },
  {
   "cell_type": "code",
   "execution_count": 4,
   "metadata": {},
   "outputs": [],
   "source": [
    "N_0 =  (26*26*26*26 + 2*26*26*26 + 26*26) - N_all"
   ]
  },
  {
   "cell_type": "code",
   "execution_count": 5,
   "metadata": {},
   "outputs": [],
   "source": [
    "def r_word_amount(r):\n",
    "    total = 0\n",
    "    for v in list(count.values()):\n",
    "        if v == r:\n",
    "            total = total + 1\n",
    "    return total"
   ]
  },
  {
   "cell_type": "code",
   "execution_count": 6,
   "metadata": {},
   "outputs": [
    {
     "name": "stdout",
     "output_type": "stream",
     "text": [
      "[491217, 317, 184, 99, 90, 74, 50, 50, 45, 37, 30, 27]\n"
     ]
    }
   ],
   "source": [
    "N_r = [ N_0 if r == 0 else r_word_amount(r) for r in range(12) ]\n",
    "print(N_r)"
   ]
  },
  {
   "cell_type": "code",
   "execution_count": 7,
   "metadata": {},
   "outputs": [],
   "source": [
    "def Pedit(w, c):\n",
    "    if (w,c) not in count:\n",
    "        if c not in correct:\n",
    "            return 10**(-30) # 為避免分母為0，遇到這種就直接回傳一個很小的數字\n",
    "        return 1/(correct[c]+N_r[1])\n",
    "    else:\n",
    "        if count[(w, c)] > 10:\n",
    "            return count[(w, c)]/correct[c]\n",
    "        else:\n",
    "            return (count[(w, c)]+1)/(correct[c] + N_r[count[(w, c)]])"
   ]
  },
  {
   "cell_type": "markdown",
   "metadata": {},
   "source": [
    "- 未看過且未有correct的，無法使用laplace，因此給一個極小數即可"
   ]
  },
  {
   "cell_type": "code",
   "execution_count": 8,
   "metadata": {},
   "outputs": [
    {
     "data": {
      "text/plain": [
       "1e-30"
      ]
     },
     "execution_count": 8,
     "metadata": {},
     "output_type": "execute_result"
    }
   ],
   "source": [
    "Pedit(\"-\",\"*\")"
   ]
  },
  {
   "cell_type": "markdown",
   "metadata": {},
   "source": [
    "- 未看過但correct有出現得（laplace 0->1）"
   ]
  },
  {
   "cell_type": "code",
   "execution_count": 9,
   "metadata": {},
   "outputs": [
    {
     "data": {
      "text/plain": [
       "0.00033277870216306157"
      ]
     },
     "execution_count": 9,
     "metadata": {},
     "output_type": "execute_result"
    }
   ],
   "source": [
    "Pedit(\"-\",\"i\")"
   ]
  },
  {
   "cell_type": "markdown",
   "metadata": {},
   "source": [
    "- 有出現在裡面的"
   ]
  },
  {
   "cell_type": "code",
   "execution_count": 10,
   "metadata": {},
   "outputs": [
    {
     "data": {
      "text/plain": [
       "0.003669724770642202"
      ]
     },
     "execution_count": 10,
     "metadata": {},
     "output_type": "execute_result"
    }
   ],
   "source": [
    "Pedit(\"c\",\"i\") #count < 10"
   ]
  },
  {
   "cell_type": "code",
   "execution_count": 11,
   "metadata": {},
   "outputs": [
    {
     "data": {
      "text/plain": [
       "0.3411458333333333"
      ]
     },
     "execution_count": 11,
     "metadata": {},
     "output_type": "execute_result"
    }
   ],
   "source": [
    "Pedit(\"e\",\"i\")"
   ]
  },
  {
   "cell_type": "markdown",
   "metadata": {},
   "source": [
    "## Word Probabilty"
   ]
  },
  {
   "cell_type": "code",
   "execution_count": 12,
   "metadata": {},
   "outputs": [],
   "source": [
    "from collections import Counter, defaultdict\n",
    "import re\n",
    "\n",
    "'''Word Probability'''\n",
    "def words(text): return re.findall(r'\\w+', text.lower())\n",
    "count_word = Counter(words(open('big.txt').read()))\n",
    "\n",
    "Nw = sum(count_word.values())\n",
    "\n",
    "Pdist = {word: float(count)/Nw for word, count in count_word.items()}\n",
    "\n",
    "def Pw(word): \n",
    "    return Pdist[word] if word in Pdist else 10/10**len(word)/Nw"
   ]
  },
  {
   "cell_type": "code",
   "execution_count": 13,
   "metadata": {},
   "outputs": [],
   "source": [
    "'''Next States'''\n",
    "letters    = 'abcdefghijklmnopqrstuvwxyz'\n",
    "# state 是一個tuple\n",
    "def next_states(state):\n",
    "    # appearant\n",
    "    L, R, edit, pw, pedit = state\n",
    "    R0, R1 = R[0], R[1:]\n",
    "    if edit == 2: return [(L+R0, R1, edit, pw, pedit*0.8)]\n",
    "    # ('a', 'ppearant', 0, 0.0, (w,c))\n",
    "    noedit = [(L+R0, R1, edit, pw, pedit*0.8)]\n",
    "    # ('', 'ppearant', 1, 0.0, (R0,'')) \n",
    "    delete = [(L, R1, (edit + 1), Pw((L + R1)), pedit*Pedit(L[-1:]+R0, L[-1:]))]\n",
    "    #('a', 'ppearant', 1, 0.0, (L + R0, L + c))\n",
    "    replace = [(L + c, R1, (edit + 1), Pw((L + c + R1)), pedit*Pedit(R0,c)) for c in letters]\n",
    "    #('aa', 'ppearant', 1, 0.0, (L + R0 ,L + R0 + c))          \n",
    "    insert  = [(L + R0 + c, R1, (edit + 1), Pw((L + R0 + c + R1)), pedit*Pedit(R0,R0 + c)) for c in letters]\n",
    "    \n",
    "    transpose = [(L+R1[0], R0+R1[1:], (edit+1), Pw(L+R1[0]+R0+R1[1:]), pedit*Pedit(R0+R1[0], R1[0]+R0))] if len(R1) > 0 else []    \n",
    "    \n",
    "    return noedit + delete + replace + insert + transpose \n"
   ]
  },
  {
   "cell_type": "code",
   "execution_count": 14,
   "metadata": {},
   "outputs": [
    {
     "data": {
      "text/plain": [
       "[('ap', 'pearant', 0, 8.963906829152419e-15, 0.6400000000000001),\n",
       " ('a', 'pearant', 1, 8.963906829152418e-14, 0.008132530120481927),\n",
       " ('aa', 'pearant', 1, 8.963906829152419e-15, 0.0008450704225352112),\n",
       " ('ab', 'pearant', 1, 8.963906829152419e-15, 0.12777777777777777),\n",
       " ('ac', 'pearant', 1, 8.963906829152419e-15, 0.0067226890756302525),\n",
       " ('ad', 'pearant', 1, 8.963906829152419e-15, 0.0018979833926453145),\n",
       " ('ae', 'pearant', 1, 8.963906829152419e-15, 0.0002037178507766743),\n",
       " ('af', 'pearant', 1, 8.963906829152419e-15, 0.04776119402985075),\n",
       " ('ag', 'pearant', 1, 8.963906829152419e-15, 0.0025356576862123614),\n",
       " ('ah', 'pearant', 1, 8.963906829152419e-15, 0.0067226890756302525)]"
      ]
     },
     "execution_count": 14,
     "metadata": {},
     "output_type": "execute_result"
    }
   ],
   "source": [
    "state = ('', 'appearant', 0, Pw('appearant'),1)\n",
    "next_states(next_states(state)[0])[:10]"
   ]
  },
  {
   "cell_type": "code",
   "execution_count": 15,
   "metadata": {},
   "outputs": [],
   "source": [
    "def combine_L_R(states):\n",
    "    word_tuple = {}\n",
    "    for L, R, edits, p, pw in states:\n",
    "        word = L + R\n",
    "        state = (L, R, edits, p, pw)\n",
    "        if word not in word_tuple:\n",
    "            word_tuple[word] = state\n",
    "        elif edits < word_tuple[word][2]: #edit 次數較小的\n",
    "            word_tuple[word] = state\n",
    "    return list(word_tuple.values()) "
   ]
  },
  {
   "cell_type": "code",
   "execution_count": 16,
   "metadata": {},
   "outputs": [],
   "source": [
    "import math\n",
    "'''Combining channel probability with word probability to score states'''\n",
    "def P(pw, pedit):\n",
    "    if pw != 0 and pedit != 0:\n",
    "        return math.log10(pw) + math.log10(pedit)\n",
    "    elif pw != 0 and pedit == 0:\n",
    "        return math.log10(pw)\n",
    "    elif pw == 0 and pedit != 0:\n",
    "        return math.log10(pedit)\n",
    "    else:\n",
    "        return 0"
   ]
  },
  {
   "cell_type": "code",
   "execution_count": 17,
   "metadata": {},
   "outputs": [],
   "source": [
    "from operator import itemgetter\n",
    "\n",
    "def sort_state(states):\n",
    "    tmp = {}\n",
    "    sorted_by_prob = []\n",
    "    for s in states:\n",
    "        tmp[s] = P(s[3],s[4])\n",
    "    sorted_by_prob_map = sorted(tmp.items(),key=itemgetter(1),reverse = True)\n",
    "    for i in sorted_by_prob_map:\n",
    "        sorted_by_prob.append(i[0])\n",
    "    return sorted(sorted_by_prob,key=itemgetter(2))"
   ]
  },
  {
   "cell_type": "code",
   "execution_count": 18,
   "metadata": {},
   "outputs": [],
   "source": [
    "def filter_state(states):\n",
    "    st = states\n",
    "    for index, state in enumerate(states):\n",
    "        if (state[2] != 0) and (P(state[3],state[4]) <= 0):\n",
    "            print(state)\n",
    "            del st[index] \n",
    "    return st"
   ]
  },
  {
   "cell_type": "code",
   "execution_count": 19,
   "metadata": {},
   "outputs": [],
   "source": [
    "MAXBEAM = 500\n",
    "from pprint import pprint\n",
    "def correction(word):\n",
    "    states = [('', word, 0, Pw(word), 1)]\n",
    "    for i in range(len(word)):\n",
    "        #print(i, states[:3])\n",
    "        states = [ state for states in map(next_states, states) for state in states ]\n",
    "        states = combine_L_R(states) \n",
    "        states = sort_state(states)[:MAXBEAM]\n",
    "        # filter_state(states)\n",
    "\n",
    "    states = sorted(states, key=lambda x: P(x[3],x[4]), reverse=True)\n",
    "    return states[:3]\n",
    "    "
   ]
  },
  {
   "cell_type": "code",
   "execution_count": 20,
   "metadata": {},
   "outputs": [
    {
     "name": "stdout",
     "output_type": "stream",
     "text": [
      "[('apparent', '', 2, 3.764840868244015e-05, 0.01018676187828061),\n",
      " ('appearance', '', 2, 0.00012101274219355764, 0.0011182874238227151),\n",
      " ('appearing', '', 2, 2.061698570705056e-05, 0.0008387047619047624)]\n"
     ]
    }
   ],
   "source": [
    "pprint(correction('appearant'))"
   ]
  },
  {
   "cell_type": "code",
   "execution_count": 21,
   "metadata": {},
   "outputs": [
    {
     "name": "stdout",
     "output_type": "stream",
     "text": [
      "[('black', '', 1, 0.0002106518104850818, 0.03375824175824176),\n",
      " ('back', '', 1, 0.0006687074494547703, 0.0067889502762430946),\n",
      " ('branch', '', 2, 4.571592482867733e-05, 0.03684993093669402)]\n"
     ]
    }
   ],
   "source": [
    "pprint(correction('brack'))"
   ]
  },
  {
   "cell_type": "code",
   "execution_count": 22,
   "metadata": {},
   "outputs": [
    {
     "name": "stdout",
     "output_type": "stream",
     "text": [
      "[('happy', '', 0, 0.00019541316887552272, 0.32768000000000014),\n",
      " ('happen', '', 2, 8.874267760860894e-05, 0.0023614255765199168),\n",
      " ('apply', '', 2, 3.85447993653554e-05, 0.0013160173160173163)]\n"
     ]
    }
   ],
   "source": [
    "pprint(correction('happy'))"
   ]
  },
  {
   "cell_type": "code",
   "execution_count": 23,
   "metadata": {},
   "outputs": [
    {
     "name": "stdout",
     "output_type": "stream",
     "text": [
      "[('written', '', 2, 0.00010487770990108329, 0.0004765429362880889),\n",
      " ('writhing', '', 2, 3.585562731660967e-06, 0.0008601237842617159),\n",
      " ('writing', '', 2, 6.185095712115169e-05, 9.258148941232459e-06)]\n"
     ]
    }
   ],
   "source": [
    "pprint(correction('writtung'))"
   ]
  },
  {
   "cell_type": "code",
   "execution_count": 24,
   "metadata": {},
   "outputs": [
    {
     "data": {
      "text/plain": [
       "[('thanks', '', 1, 3.495923663369443e-05, 0.09240674698795184),\n",
       " ('thinks', '', 1, 2.2409767072881046e-05, 0.11178666666666669),\n",
       " ('think', '', 2, 0.0004992896103837897, 0.00432802359882006)]"
      ]
     },
     "execution_count": 24,
     "metadata": {},
     "output_type": "execute_result"
    }
   ],
   "source": [
    "correction('thenks')"
   ]
  },
  {
   "cell_type": "code",
   "execution_count": 25,
   "metadata": {},
   "outputs": [
    {
     "data": {
      "text/plain": [
       "[('apply', '', 2, 3.85447993653554e-05, 0.00018749227184096642),\n",
       " ('apple', '', 1, 9.860297512067659e-06, 0.00047627906976744207),\n",
       " ('apples', '', 2, 1.7927813658304835e-06, 0.0004770186335403728)]"
      ]
     },
     "execution_count": 25,
     "metadata": {},
     "output_type": "execute_result"
    }
   ],
   "source": [
    "correction('appple')"
   ]
  },
  {
   "cell_type": "code",
   "execution_count": 26,
   "metadata": {},
   "outputs": [
    {
     "data": {
      "text/plain": [
       "[('break', '', 2, 8.605350555986322e-05, 0.12561664841182915),\n",
       " ('broken', '', 2, 0.00011204883536440522, 0.08027573464094093),\n",
       " ('broke', '', 1, 8.515711487694797e-05, 0.09076509730069054)]"
      ]
     },
     "execution_count": 26,
     "metadata": {},
     "output_type": "execute_result"
    }
   ],
   "source": [
    "correction('brake')"
   ]
  },
  {
   "cell_type": "code",
   "execution_count": null,
   "metadata": {},
   "outputs": [],
   "source": []
  }
 ],
 "metadata": {
  "kernelspec": {
   "display_name": "Python 3",
   "language": "python",
   "name": "python3"
  },
  "language_info": {
   "codemirror_mode": {
    "name": "ipython",
    "version": 3
   },
   "file_extension": ".py",
   "mimetype": "text/x-python",
   "name": "python",
   "nbconvert_exporter": "python",
   "pygments_lexer": "ipython3",
   "version": "3.6.4"
  }
 },
 "nbformat": 4,
 "nbformat_minor": 2
}

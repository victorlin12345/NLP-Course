{
 "cells": [
  {
   "cell_type": "code",
   "execution_count": 1,
   "metadata": {},
   "outputs": [],
   "source": [
    "import requests\n",
    "\n",
    "API_URL = \"http://api.netspeak.org/netspeak3/search?query=%s\"\n",
    "\n",
    "class NetSpeak:\n",
    "    def __init__(self):\n",
    "        self.headers = {'User-Agent': 'Mozilla/5.0 (compatible; MSIE 5.5; Windows NT)'}\n",
    "        self.page = None\n",
    "\n",
    "    def __getPageContent(self, url):\n",
    "        return requests.get(url, headers=self.headers).text\n",
    "        # return self.opener.open(url).read()\n",
    "\n",
    "    def __rolling(self, url, maxfreq=None):\n",
    "        if maxfreq:\n",
    "            webdata = self.__getPageContent(url + \"&maxfreq=%s\" % maxfreq)\n",
    "        else:\n",
    "            webdata = self.__getPageContent(url)\n",
    "        if webdata:\n",
    "            # webdata = webdata.decode('utf-8')\n",
    "            results = [data.split('\\t') for data in webdata.splitlines()]\n",
    "            results = [(data[2], float(data[1])) for data in results]\n",
    "            lastFreq = int(results[-1][1])\n",
    "            if lastFreq != maxfreq:\n",
    "                return results + self.__rolling(url, lastFreq)\n",
    "            else:\n",
    "                return []\n",
    "        else:\n",
    "            return []\n",
    "\n",
    "    def search(self, query):\n",
    "        queries = query.split()\n",
    "        new_query = []\n",
    "        for token in queries:\n",
    "            if token.count('|') > 0:\n",
    "                new_query.append('[+{0}+]'.format('+'.join(token.split('|'))))\n",
    "            elif token == '*':\n",
    "                new_query.append('?')\n",
    "            else:\n",
    "                new_query.append(token)\n",
    "        new_query = '+'.join(new_query)\n",
    "        url = API_URL % (new_query.replace(' ', '+'))\n",
    "        return self.__rolling(url)"
   ]
  },
  {
   "cell_type": "code",
   "execution_count": 2,
   "metadata": {},
   "outputs": [],
   "source": [
    "trigram_dictionary = {}"
   ]
  },
  {
   "cell_type": "markdown",
   "metadata": {},
   "source": [
    "- NetSpeak 有找到 trigram 時會丟一個 list of a tuple 回來"
   ]
  },
  {
   "cell_type": "code",
   "execution_count": 3,
   "metadata": {},
   "outputs": [
    {
     "data": {
      "text/plain": [
       "[('when the break', 6125.0)]"
      ]
     },
     "execution_count": 3,
     "metadata": {},
     "output_type": "execute_result"
    }
   ],
   "source": [
    "SE = NetSpeak()\n",
    "res = SE.search('when the break')\n",
    "res"
   ]
  },
  {
   "cell_type": "markdown",
   "metadata": {},
   "source": [
    "- NetSpeak 沒找到，丟空 list"
   ]
  },
  {
   "cell_type": "code",
   "execution_count": 4,
   "metadata": {},
   "outputs": [
    {
     "data": {
      "text/plain": [
       "[]"
      ]
     },
     "execution_count": 4,
     "metadata": {},
     "output_type": "execute_result"
    }
   ],
   "source": [
    "res = SE.search('when the ek')\n",
    "res"
   ]
  },
  {
   "cell_type": "markdown",
   "metadata": {},
   "source": [
    "## TriGram Error Dectection"
   ]
  },
  {
   "cell_type": "code",
   "execution_count": 5,
   "metadata": {},
   "outputs": [],
   "source": [
    "SE = NetSpeak()\n",
    "test = 'when the brack was finished'\n",
    "\n",
    "def error_trigram(sentence):\n",
    "    sentence = sentence.split()\n",
    "    error_candidates = {}\n",
    "    for i in range(len(sentence) - 2):\n",
    "        tri_gram = ' '.join(sentence[i:i + 3])\n",
    "        if tri_gram in trigram_dictionary:\n",
    "            error_candidates[(tri_gram, i)] = trigram_dictionary[tri_gram]\n",
    "        else:\n",
    "            res = SE.search(tri_gram)\n",
    "            if res:\n",
    "                trigram_dictionary[tri_gram] = res[0][1]\n",
    "                error_candidates[(tri_gram, i)] = res[0][1]\n",
    "            else:\n",
    "                trigram_dictionary[tri_gram] = 0\n",
    "                error_candidates[(tri_gram, i)] = 0\n",
    "    return min(error_candidates.items(), key=lambda x: x[1])[0]"
   ]
  },
  {
   "cell_type": "markdown",
   "metadata": {},
   "source": [
    "## Find The Best TriGram after Correction "
   ]
  },
  {
   "cell_type": "code",
   "execution_count": 6,
   "metadata": {},
   "outputs": [],
   "source": [
    "import Spelling_check_nosiy_channel as cor\n",
    "from pprint import pprint"
   ]
  },
  {
   "cell_type": "markdown",
   "metadata": {},
   "source": [
    "## corrected trigram list"
   ]
  },
  {
   "cell_type": "code",
   "execution_count": 7,
   "metadata": {},
   "outputs": [],
   "source": [
    "def get_correct_list(trigram_tuple):\n",
    "    trigram = trigram_tuple[0].split(' ') # tri_gram\n",
    "    idx_trigram = trigram_tuple[1] # i\n",
    "    cor_tri_list = []\n",
    "    for idx, word in enumerate(trigram):\n",
    "        for cor_tuple in cor.correction(word):\n",
    "            new_trigram = list(trigram)\n",
    "            cor_word = cor_tuple[0]\n",
    "            new_trigram[idx] = cor_word\n",
    "            cor_tri_list.append(' '.join(new_trigram))\n",
    "    return idx_trigram, cor_tri_list "
   ]
  },
  {
   "cell_type": "markdown",
   "metadata": {},
   "source": [
    "## choose the highest trigram form correted trigram list"
   ]
  },
  {
   "cell_type": "code",
   "execution_count": 8,
   "metadata": {},
   "outputs": [],
   "source": [
    "def score_trigram(trigram_set):\n",
    "    idx_trigram = trigram_set[0]\n",
    "    trigram_set = trigram_set[1]\n",
    "    scores = {}\n",
    "    for tri in trigram_set:\n",
    "        if tri in trigram_dictionary:\n",
    "            scores[tri] = trigram_dictionary[tri]\n",
    "        else:\n",
    "            res = SE.search(tri)\n",
    "            if res == []:\n",
    "                trigram_dictionary[tri] = 0\n",
    "            else:\n",
    "                trigram_dictionary[tri] = res[0][1]\n",
    "                scores[tri] = res[0][1]\n",
    "    if scores != {}:\n",
    "        return idx_trigram, max(scores.items(), key=lambda x: x[1])[0]\n",
    "    else:\n",
    "        return idx_trigram, ''\n",
    "                "
   ]
  },
  {
   "cell_type": "code",
   "execution_count": 9,
   "metadata": {},
   "outputs": [],
   "source": [
    "hit = 0"
   ]
  },
  {
   "cell_type": "code",
   "execution_count": 10,
   "metadata": {},
   "outputs": [],
   "source": [
    "def answer(best_trigram, sentence):\n",
    "    s_arr = sentence.split(' ')\n",
    "    tri_idx = best_trigram[0]\n",
    "    tri_arr = best_trigram[1].split(' ')\n",
    "    wrong = ''\n",
    "    correct = ''\n",
    "    for idx, word in enumerate(tri_arr):\n",
    "        if word != s_arr[(tri_idx+idx)]:\n",
    "            correct = word\n",
    "            wrong = s_arr[(tri_idx+idx)]\n",
    "    s_arr[tri_idx:tri_idx+3] = tri_arr\n",
    "    # just for getting candidates\n",
    "    candidates = []\n",
    "    for c in cor.correction(wrong):\n",
    "        candidates.append(c[0])\n",
    "    print(\"Error:\",wrong)\n",
    "    print(\"Candidates:\",candidates)\n",
    "    print(\"Correction:\",correct)\n",
    "    cor_sentence = ' '.join(s_arr)\n",
    "    print(sentence,\"->\",cor_sentence)\n",
    "    return cor_sentence.strip()"
   ]
  },
  {
   "cell_type": "code",
   "execution_count": 11,
   "metadata": {
    "scrolled": true
   },
   "outputs": [
    {
     "name": "stdout",
     "output_type": "stream",
     "text": [
      "0 ---------------------------------------\n",
      "Error: strang\n",
      "Candidates: ['strange', 'strong', 'sprang']\n",
      "Correction: strange\n",
      "i felt very strang  -> i felt very strange \n",
      "hits : 1\n",
      "\n",
      "\n",
      "1 ---------------------------------------\n",
      "Error: at\n",
      "Candidates: ['of', 'and', 'to']\n",
      "Correction: and\n",
      "at brake time  -> and brake time \n",
      "hits : 1\n",
      "\n",
      "\n",
      "2 ---------------------------------------\n",
      "Error: brack\n",
      "Candidates: ['black', 'track', 'crack']\n",
      "Correction: black\n",
      "when the brack was finished  -> when the black was finished \n",
      "hits : 1\n",
      "\n",
      "\n",
      "3 ---------------------------------------\n",
      "Error: weanter\n",
      "Candidates: ['weather', 'weantr', 'wnater']\n",
      "Correction: weather\n",
      "in the weanter when it was snowing  -> in the weather when it was snowing \n",
      "hits : 1\n",
      "\n",
      "\n",
      "4 ---------------------------------------\n",
      "Error: gost\n",
      "Candidates: ['most', 'got', 'lost']\n",
      "Correction: most\n",
      "i thought it was a gost  -> i thought it was a most \n",
      "hits : 1\n",
      "\n",
      "\n",
      "5 ---------------------------------------\n",
      "Error: houses\n",
      "Candidates: ['house', 'horses', 'houses']\n",
      "Correction: house\n",
      "everything expect the houses  -> everything expect the house \n",
      "hits : 1\n",
      "\n",
      "\n",
      "6 ---------------------------------------\n",
      "Error: steped\n",
      "Candidates: ['speed', 'tested', 'steep']\n",
      "Correction: tested\n",
      "when i first steped  -> when i first tested \n",
      "hits : 1\n",
      "\n",
      "\n"
     ]
    },
    {
     "ename": "ValueError",
     "evalue": "max() arg is an empty sequence",
     "output_type": "error",
     "traceback": [
      "\u001b[0;31m---------------------------------------------------------------------------\u001b[0m",
      "\u001b[0;31mValueError\u001b[0m                                Traceback (most recent call last)",
      "\u001b[0;32m<ipython-input-11-67b6d4fcee58>\u001b[0m in \u001b[0;36m<module>\u001b[0;34m()\u001b[0m\n\u001b[1;32m     14\u001b[0m \u001b[0;34m\u001b[0m\u001b[0m\n\u001b[1;32m     15\u001b[0m \u001b[0;32mfor\u001b[0m \u001b[0mindex\u001b[0m\u001b[0;34m,\u001b[0m \u001b[0msentence\u001b[0m \u001b[0;32min\u001b[0m \u001b[0menumerate\u001b[0m\u001b[0;34m(\u001b[0m\u001b[0mwrong\u001b[0m\u001b[0;34m)\u001b[0m\u001b[0;34m:\u001b[0m\u001b[0;34m\u001b[0m\u001b[0m\n\u001b[0;32m---> 16\u001b[0;31m     \u001b[0mbest_trigram\u001b[0m \u001b[0;34m=\u001b[0m \u001b[0mscore_trigram\u001b[0m\u001b[0;34m(\u001b[0m\u001b[0mget_correct_list\u001b[0m\u001b[0;34m(\u001b[0m\u001b[0merror_trigram\u001b[0m\u001b[0;34m(\u001b[0m\u001b[0msentence\u001b[0m\u001b[0;34m)\u001b[0m\u001b[0;34m)\u001b[0m\u001b[0;34m)\u001b[0m\u001b[0;34m\u001b[0m\u001b[0m\n\u001b[0m\u001b[1;32m     17\u001b[0m     \u001b[0mprint\u001b[0m\u001b[0;34m(\u001b[0m\u001b[0mindex\u001b[0m\u001b[0;34m,\u001b[0m\u001b[0;34m\"---------------------------------------\"\u001b[0m\u001b[0;34m)\u001b[0m\u001b[0;34m\u001b[0m\u001b[0m\n\u001b[1;32m     18\u001b[0m     \u001b[0;32mif\u001b[0m \u001b[0manswer\u001b[0m\u001b[0;34m(\u001b[0m\u001b[0mbest_trigram\u001b[0m\u001b[0;34m,\u001b[0m \u001b[0msentence\u001b[0m\u001b[0;34m)\u001b[0m \u001b[0;34m==\u001b[0m \u001b[0mcorrect\u001b[0m\u001b[0;34m[\u001b[0m\u001b[0mindex\u001b[0m\u001b[0;34m]\u001b[0m\u001b[0;34m:\u001b[0m\u001b[0;34m\u001b[0m\u001b[0m\n",
      "\u001b[0;32m<ipython-input-8-971083949104>\u001b[0m in \u001b[0;36mscore_trigram\u001b[0;34m(trigram_set)\u001b[0m\n\u001b[1;32m     13\u001b[0m                 \u001b[0mtrigram_dictionary\u001b[0m\u001b[0;34m[\u001b[0m\u001b[0mtri\u001b[0m\u001b[0;34m]\u001b[0m \u001b[0;34m=\u001b[0m \u001b[0mres\u001b[0m\u001b[0;34m[\u001b[0m\u001b[0;36m0\u001b[0m\u001b[0;34m]\u001b[0m\u001b[0;34m[\u001b[0m\u001b[0;36m1\u001b[0m\u001b[0;34m]\u001b[0m\u001b[0;34m\u001b[0m\u001b[0m\n\u001b[1;32m     14\u001b[0m                 \u001b[0mscores\u001b[0m\u001b[0;34m[\u001b[0m\u001b[0mtri\u001b[0m\u001b[0;34m]\u001b[0m \u001b[0;34m=\u001b[0m \u001b[0mres\u001b[0m\u001b[0;34m[\u001b[0m\u001b[0;36m0\u001b[0m\u001b[0;34m]\u001b[0m\u001b[0;34m[\u001b[0m\u001b[0;36m1\u001b[0m\u001b[0;34m]\u001b[0m\u001b[0;34m\u001b[0m\u001b[0m\n\u001b[0;32m---> 15\u001b[0;31m     \u001b[0;32mreturn\u001b[0m \u001b[0midx_trigram\u001b[0m\u001b[0;34m,\u001b[0m \u001b[0mmax\u001b[0m\u001b[0;34m(\u001b[0m\u001b[0mscores\u001b[0m\u001b[0;34m.\u001b[0m\u001b[0mitems\u001b[0m\u001b[0;34m(\u001b[0m\u001b[0;34m)\u001b[0m\u001b[0;34m,\u001b[0m \u001b[0mkey\u001b[0m\u001b[0;34m=\u001b[0m\u001b[0;32mlambda\u001b[0m \u001b[0mx\u001b[0m\u001b[0;34m:\u001b[0m \u001b[0mx\u001b[0m\u001b[0;34m[\u001b[0m\u001b[0;36m1\u001b[0m\u001b[0;34m]\u001b[0m\u001b[0;34m)\u001b[0m\u001b[0;34m[\u001b[0m\u001b[0;36m0\u001b[0m\u001b[0;34m]\u001b[0m\u001b[0;34m\u001b[0m\u001b[0m\n\u001b[0m\u001b[1;32m     16\u001b[0m \u001b[0;34m\u001b[0m\u001b[0m\n",
      "\u001b[0;31mValueError\u001b[0m: max() arg is an empty sequence"
     ]
    }
   ],
   "source": [
    "hit = 0\n",
    "\n",
    "fp = open('lab4.test.1.txt', \"r\")\n",
    "lines = fp.readlines()\n",
    "fp.close()\n",
    "\n",
    "wrong = []\n",
    "correct = []\n",
    "\n",
    "for i in range(len(lines)):\n",
    "    source = lines[i].split('\\t') # wrong \\t correct\n",
    "    wrong.append(source[0].lower())\n",
    "    correct.append(source[1].strip('\\n').lower())\n",
    "    \n",
    "for index, sentence in enumerate(wrong):\n",
    "    best_trigram = score_trigram(get_correct_list(error_trigram(sentence)))\n",
    "    print(index,\"---------------------------------------\")\n",
    "    if answer(best_trigram, sentence) == correct[index]:\n",
    "        hit = hit + 1\n",
    "    print(\"hits :\",hit)\n",
    "    print(\"\\n\")"
   ]
  },
  {
   "cell_type": "code",
   "execution_count": null,
   "metadata": {
    "collapsed": true
   },
   "outputs": [],
   "source": []
  }
 ],
 "metadata": {
  "kernelspec": {
   "display_name": "Python 3",
   "language": "python",
   "name": "python3"
  },
  "language_info": {
   "codemirror_mode": {
    "name": "ipython",
    "version": 3
   },
   "file_extension": ".py",
   "mimetype": "text/x-python",
   "name": "python",
   "nbconvert_exporter": "python",
   "pygments_lexer": "ipython3",
   "version": "3.6.4"
  }
 },
 "nbformat": 4,
 "nbformat_minor": 2
}

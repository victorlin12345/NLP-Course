{
 "cells": [
  {
   "cell_type": "markdown",
   "metadata": {},
   "source": [
    "### Explainable Artificial Intelligence\n",
    "- Correct the pattern using Noisy Channel Model\n",
    "\n",
    "\n",
    "- Right and Wrong:\n",
    "    - They **discussed about the issues**. (Wrong)\n",
    "    - They **discussed the issue**. (Right)\n",
    "    - Explanation For discuss, **use V n not V about n**\n",
    "\n",
    "\n",
    "- Step:\n",
    "    - Parse sentence\n",
    "    - Identify in/correct patterns (i.e., V about n): \n",
    "    - Compute Noisy Channel Model\n",
    "        - V n → V about n [ P(W|c) ]\n",
    "    - Compute Lexical Language Model\n",
    "        - discuss: V n, V wh-to-inf, V n w [ P(pat_c|pat_c_s) ]\n",
    "    - Combined both prob sorting the best candiadate\n",
    "        - Noisy Channel Model * Lexical Language Model\n"
   ]
  },
  {
   "cell_type": "markdown",
   "metadata": {},
   "source": [
    "### 產生 pattern 比較組"
   ]
  },
  {
   "cell_type": "code",
   "execution_count": 22,
   "metadata": {
    "collapsed": true
   },
   "outputs": [],
   "source": [
    "import subprocess"
   ]
  },
  {
   "cell_type": "code",
   "execution_count": 23,
   "metadata": {
    "collapsed": true
   },
   "outputs": [],
   "source": [
    "def cmd_line(line):\n",
    "    try:\n",
    "        output = subprocess.check_output(line, shell=True)\n",
    "        print(output)\n",
    "    except subprocess.CalledProcessError:\n",
    "        print('Exception handled')"
   ]
  },
  {
   "cell_type": "markdown",
   "metadata": {
    "collapsed": true
   },
   "source": [
    "產生了 wong.txt"
   ]
  },
  {
   "cell_type": "code",
   "execution_count": 25,
   "metadata": {},
   "outputs": [
    {
     "name": "stdout",
     "output_type": "stream",
     "text": [
      "b''\n"
     ]
    }
   ],
   "source": [
    "cmd_line('cat ef_train.src.tagged.txt | python3 grampat.py >> wrong.txt ')"
   ]
  },
  {
   "cell_type": "markdown",
   "metadata": {},
   "source": [
    "產生了 wong.txt"
   ]
  },
  {
   "cell_type": "code",
   "execution_count": 26,
   "metadata": {},
   "outputs": [
    {
     "name": "stdout",
     "output_type": "stream",
     "text": [
      "b''\n"
     ]
    }
   ],
   "source": [
    "cmd_line('cat ef_train.tgt.tagged.txt | python3 grampat.py >> correct.txt ')"
   ]
  },
  {
   "cell_type": "raw",
   "metadata": {},
   "source": [
    "0\tLEAVE\tV n\tcould n't leave an answer\tBut I could n't leave an answer for you ."
   ]
  },
  {
   "cell_type": "code",
   "execution_count": 61,
   "metadata": {},
   "outputs": [],
   "source": [
    "from collections import defaultdict\n",
    "\n",
    "#{0:{(Verb,position):pattern, (Verb,position):pattern, ..},}\n",
    "\n",
    "def generate_filter_data(file):\n",
    "    \n",
    "    sen_dict = defaultdict(lambda: [])\n",
    "\n",
    "    for line in file:\n",
    "        id, verb, pat, seg, sen = line.strip('\\n').split('\\t')\n",
    "        position = pattern_pos(sen, seg)\n",
    "        sen_dict[id].append((verb,position,pat))\n",
    "    \n",
    "    return sen_dict"
   ]
  },
  {
   "cell_type": "code",
   "execution_count": 62,
   "metadata": {},
   "outputs": [],
   "source": [
    "wrong_dict = generate_filter_data(open('wrong.txt','r'))"
   ]
  },
  {
   "cell_type": "code",
   "execution_count": 63,
   "metadata": {},
   "outputs": [],
   "source": [
    "correct_dict = generate_filter_data(open('correct.txt','r'))"
   ]
  },
  {
   "cell_type": "markdown",
   "metadata": {},
   "source": [
    "### Noisy Channel"
   ]
  },
  {
   "cell_type": "code",
   "execution_count": 40,
   "metadata": {},
   "outputs": [],
   "source": [
    "def pattern_pos(sent1, sent2):\n",
    "    lst = sent1.split()\n",
    "    sublst = sent2.split()\n",
    "    if len(lst) < len(sublst):\n",
    "        lst, sublst = sublst, lst\n",
    "    count = 0\n",
    "    n = len(sublst)\n",
    "    for i in range(len(lst)):\n",
    "        for j in range(n):\n",
    "            if lst[i] == sublst[j]:\n",
    "                count += 1\n",
    "            if count == n:\n",
    "                return i - n + 1\n",
    "    return -10"
   ]
  },
  {
   "cell_type": "code",
   "execution_count": 161,
   "metadata": {},
   "outputs": [],
   "source": [
    "# from correct.txt each verb's pattern\n",
    "candidate = defaultdict(lambda: defaultdict(int))\n",
    "# (verb, wrong_pattern, correct_pattern )\n",
    "corrected = defaultdict(lambda: defaultdict(int))\n",
    "\n",
    "for id, correct in correct_dict.items():\n",
    "    wrong = wrong_dict[id]\n",
    "    for c in correct:\n",
    "        c_verb, c_position, c_pat = c\n",
    "        candidate[c_verb][c_pat] += 1\n",
    "        for w in wrong:\n",
    "            w_verb, w_position, w_pat = w\n",
    "            '''\n",
    "            correcting conditions:\n",
    "             1. same verb\n",
    "             2. seg start position is allowed in 3 distance\n",
    "             3. different gramma\n",
    "             4. avoid matching wrong \n",
    "            '''  \n",
    "            if (c_verb == w_verb) and (abs(c_position - w_position) <=3) and (c_pat != w_pat) and c not in wrong:\n",
    "                #corrected[(c_verb, w_pat)][c_pat] += 1\n",
    "                corrected[ w_pat][c_pat] += 1"
   ]
  },
  {
   "cell_type": "code",
   "execution_count": 162,
   "metadata": {},
   "outputs": [
    {
     "name": "stdout",
     "output_type": "stream",
     "text": [
      "[100000, 122, 47, 28, 11, 8, 6, 10, 5, 5, 3, 2]\n"
     ]
    }
   ],
   "source": [
    "def corrected_amount_counter(_dict ,amount):\n",
    "    total = 0\n",
    "    for c_pats in list(_dict.values()):\n",
    "        for v in list(c_pats.values()):\n",
    "            if v == amount:\n",
    "                total = total + 1\n",
    "    return total\n",
    "\n",
    "N_amount = [ 100000 if amount == 0 else corrected_amount_counter(corrected ,amount) for amount in range(12) ]\n",
    "print(N_amount)"
   ]
  },
  {
   "cell_type": "code",
   "execution_count": 163,
   "metadata": {
    "collapsed": true
   },
   "outputs": [],
   "source": [
    "def smooth(count, r=10):\n",
    "    if count <= r:\n",
    "        return (count+1)*N_amount[count+1]/N_amount[count]\n",
    "    else:\n",
    "        return count"
   ]
  },
  {
   "cell_type": "code",
   "execution_count": 164,
   "metadata": {},
   "outputs": [
    {
     "data": {
      "text/plain": [
       "0.00122"
      ]
     },
     "execution_count": 164,
     "metadata": {},
     "output_type": "execute_result"
    }
   ],
   "source": [
    "smooth(0)"
   ]
  },
  {
   "cell_type": "code",
   "execution_count": 175,
   "metadata": {},
   "outputs": [
    {
     "data": {
      "text/plain": [
       "10"
      ]
     },
     "execution_count": 175,
     "metadata": {},
     "output_type": "execute_result"
    }
   ],
   "source": [
    "candidate['APPLY']['V']"
   ]
  },
  {
   "cell_type": "code",
   "execution_count": 184,
   "metadata": {},
   "outputs": [
    {
     "data": {
      "text/plain": [
       "('V n', 0.18138651731439112)"
      ]
     },
     "execution_count": 184,
     "metadata": {},
     "output_type": "execute_result"
    }
   ],
   "source": [
    "import operator\n",
    "\n",
    "def Pedit(verb, pat):\n",
    "    answers = {}\n",
    "    if pat in corrected:\n",
    "        for candidate_pat, count in corrected[pat].items():\n",
    "            noisy_channel_prob = smooth(count)/sum(candidate[verb].values())\n",
    "            if candidate_pat in candidate[verb]:\n",
    "                language_prob = candidate[verb][candidate_pat]/sum(candidate[verb].values())\n",
    "            else:\n",
    "                language_prob = 1/sum(candidate[verb].values())\n",
    "            candidate_prob = language_prob * noisy_channel_prob    \n",
    "            answers[candidate_pat] = candidate_prob     \n",
    "        best_candidate, prob = max(answers.items(), key=operator.itemgetter(1))\n",
    "        return best_candidate, prob\n",
    "    else:\n",
    "        return (verb, pat)\n"
   ]
  },
  {
   "cell_type": "code",
   "execution_count": 205,
   "metadata": {},
   "outputs": [
    {
     "name": "stdout",
     "output_type": "stream",
     "text": [
      "1 Correct\n",
      "Answer: V to n\n",
      "Pred : APPLY, (V for n -> V to n)\n",
      "Prob : 0.0046\n",
      "\n",
      "2 Correct\n",
      "Answer: V n\n",
      "Pred : DISCUSS, (V about n -> V n)\n",
      "Prob : 0.1814\n",
      "\n",
      "3 Correct\n",
      "Answer: V to n\n",
      "Pred : EXPLAIN, (V n -> V to n)\n",
      "Prob : 0.2090\n",
      "\n",
      "4 Correct\n",
      "Answer: V for n\n",
      "Pred : APPLY, (V n -> V for n)\n",
      "Prob : 0.3085\n",
      "\n",
      "5 Correct\n",
      "Answer: V for n\n",
      "Pred : APPLY, (V to n -> V for n)\n",
      "Prob : 0.1000\n",
      "\n",
      "6 Correct\n",
      "Answer: V for n\n",
      "Pred : APPLY, (V n -> V for n)\n",
      "Prob : 0.3085\n",
      "\n",
      "7 Correct\n",
      "Answer: V for n\n",
      "Pred : APPLY, (V n -> V for n)\n",
      "Prob : 0.3085\n",
      "\n",
      "8 Correct\n",
      "Answer: V for n\n",
      "Pred : APPLY, (V to n -> V for n)\n",
      "Prob : 0.1000\n",
      "\n",
      "9 Correct\n",
      "Answer: V for n\n",
      "Pred : APPLY, (V n -> V for n)\n",
      "Prob : 0.3085\n",
      "\n",
      "10 Correct\n",
      "Answer: V n\n",
      "Pred : EXPLAIN, (V about n -> V n)\n",
      "Prob : 0.0969\n",
      "\n",
      "11 Correct\n",
      "Answer: V n\n",
      "Pred : DISCUSS, (V about n -> V n)\n",
      "Prob : 0.1814\n",
      "\n",
      "12 Correct\n",
      "Answer: V to n\n",
      "Pred : EXPLAIN, (V n that -> V to n)\n",
      "Prob : 0.0368\n",
      "\n",
      "13 Correct\n",
      "Answer: V n\n",
      "Pred : DISCUSS, (V about n -> V n)\n",
      "Prob : 0.1814\n",
      "\n",
      "14 Correct\n",
      "Answer: V for n\n",
      "Pred : APPLY, (V n -> V for n)\n",
      "Prob : 0.3085\n",
      "\n",
      "15 Correct\n",
      "Answer: V n\n",
      "Pred : DISCUSS, (V about n -> V n)\n",
      "Prob : 0.1814\n",
      "\n",
      "16 Correct\n",
      "Answer: V for n\n",
      "Pred : APPLY, (V to n -> V for n)\n",
      "Prob : 0.1000\n",
      "\n",
      "17 Correct\n",
      "Answer: V for n\n",
      "Pred : APPLY, (V to n -> V for n)\n",
      "Prob : 0.1000\n",
      "\n",
      "18 Correct\n",
      "Answer: V n\n",
      "Pred : DISCUSS, (V about n -> V n)\n",
      "Prob : 0.1814\n",
      "\n",
      "19 Correct\n",
      "Answer: V n\n",
      "Pred : DISCUSS, (V about n -> V n)\n",
      "Prob : 0.1814\n",
      "\n",
      "20 Correct\n",
      "Answer: V n\n",
      "Pred : DISCUSS, (V about n -> V n)\n",
      "Prob : 0.1814\n",
      "\n",
      "21 Correct\n",
      "Answer: V n\n",
      "Pred : DISCUSS, (V about n -> V n)\n",
      "Prob : 0.1814\n",
      "\n",
      "22 Correct\n",
      "Answer: V n\n",
      "Pred : DISCUSS, (V about n -> V n)\n",
      "Prob : 0.1814\n",
      "\n",
      "23 Correct\n",
      "Answer: V to n\n",
      "Pred : EXPLAIN, (V n -> V to n)\n",
      "Prob : 0.2090\n",
      "\n",
      "24 Correct\n",
      "Answer: V for n\n",
      "Pred : APPLY, (V to n -> V for n)\n",
      "Prob : 0.1000\n",
      "\n",
      "25 Correct\n",
      "Answer: V n\n",
      "Pred : ANSWER, (V of n -> V n)\n",
      "Prob : 0.0611\n",
      "\n",
      "26 Correct\n",
      "Answer: V n\n",
      "Pred : ANSWER, (V to n -> V n)\n",
      "Prob : 0.3403\n",
      "\n",
      "27 Correct\n",
      "Answer: V n\n",
      "Pred : ANSWER, (V about n -> V n)\n",
      "Prob : 0.3002\n",
      "\n",
      "28 Correct\n",
      "Answer: V n\n",
      "Pred : ANSWER, (V about n -> V n)\n",
      "Prob : 0.3002\n",
      "\n",
      "29 Correct\n",
      "Answer: V n\n",
      "Pred : ANSWER, (V to n -> V n)\n",
      "Prob : 0.3403\n",
      "\n",
      "hit = 29, total = 29, accuracy = 1.000000\n"
     ]
    }
   ],
   "source": [
    "def format_word(word):\n",
    "    return word.strip('(').strip(')')\n",
    "\n",
    "def correction():\n",
    "    hit = 0\n",
    "    index = 0\n",
    "    for line in open('ef_test.ref.txt','r'):\n",
    "        index += 1\n",
    "        verb_test, patterns = line.strip('\\n').split('\\t')[1:]\n",
    "        verb_test = format_word(verb_test)\n",
    "        patterns = format_word(patterns)\n",
    "        pat_w, pat_c = patterns.split('->')\n",
    "        pat_c = pat_c.lstrip(' ')\n",
    "        pat_w = pat_w.rstrip(' ')\n",
    "        pat_best, prob  = Pedit(verb_test, pat_w)\n",
    "        \n",
    "        if pat_best == pat_c:\n",
    "            hit += 1\n",
    "            print('%d Correct' % index)\n",
    "        else:\n",
    "            print('%d Wrong' % index)\n",
    "        \n",
    "        prediction = '%s, (%s -> %s)' % (verb_test, pat_w, pat_best)\n",
    "        print('Answer: %s' % pat_c)\n",
    "        print('Pred : %s' % prediction)\n",
    "        print('Prob : %.4f\\n' % prob)\n",
    "\n",
    "    total = index\n",
    "    print('hit = %d, total = %d, accuracy = %f' % (hit, total, hit / total))\n",
    "\n",
    "correction()"
   ]
  },
  {
   "cell_type": "code",
   "execution_count": null,
   "metadata": {
    "collapsed": true
   },
   "outputs": [],
   "source": []
  }
 ],
 "metadata": {
  "kernelspec": {
   "display_name": "Python 3",
   "language": "python",
   "name": "python3"
  },
  "language_info": {
   "codemirror_mode": {
    "name": "ipython",
    "version": 3
   },
   "file_extension": ".py",
   "mimetype": "text/x-python",
   "name": "python",
   "nbconvert_exporter": "python",
   "pygments_lexer": "ipython3",
   "version": "3.6.2"
  }
 },
 "nbformat": 4,
 "nbformat_minor": 2
}

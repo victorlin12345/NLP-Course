{
 "cells": [
  {
   "cell_type": "markdown",
   "metadata": {},
   "source": [
    "先找出所有 term 的 gramma 次數 * gramma 的長度（加權值），用一個 標準差 篩掉\n",
    "並在 term 的 gramma 中選出好的 pattern "
   ]
  },
  {
   "cell_type": "code",
   "execution_count": 1,
   "metadata": {},
   "outputs": [],
   "source": [
    "import akl\n",
    "import math\n",
    "import operator\n",
    "from pprint import pprint\n",
    "from collections import defaultdict"
   ]
  },
  {
   "cell_type": "code",
   "execution_count": 2,
   "metadata": {},
   "outputs": [],
   "source": [
    "AKL = list(akl.akl.keys())"
   ]
  },
  {
   "cell_type": "code",
   "execution_count": 3,
   "metadata": {},
   "outputs": [],
   "source": [
    "PRONS = set([line.strip('\\n') for line in open('prons.txt')])"
   ]
  },
  {
   "cell_type": "code",
   "execution_count": 4,
   "metadata": {},
   "outputs": [],
   "source": [
    "HIFREWORDS = [line.split('\\t') for line in open('HiFreWords')][0]"
   ]
  },
  {
   "cell_type": "markdown",
   "metadata": {},
   "source": [
    "- create_sentence_pattern_list: 將 o.txt 轉 雙層list"
   ]
  },
  {
   "cell_type": "code",
   "execution_count": 5,
   "metadata": {},
   "outputs": [],
   "source": [
    "def create_sentence_pattern_list(input_pat):\n",
    "    pattern = []\n",
    "    final = []\n",
    "    for i in input_pat:\n",
    "        if i != '':\n",
    "            pattern.append(i)\n",
    "        else:\n",
    "            final.append(pattern.copy())\n",
    "            pattern.clear()\n",
    "\n",
    "    # Last one\n",
    "    final.append(pattern)\n",
    "    return final"
   ]
  },
  {
   "cell_type": "code",
   "execution_count": 6,
   "metadata": {},
   "outputs": [
    {
     "data": {
      "text/plain": [
       "[['all that remains for me to do is to say good-bye .', 'www']]"
      ]
     },
     "execution_count": 6,
     "metadata": {},
     "output_type": "execute_result"
    }
   ],
   "source": [
    "test = 'all that remains for me to do is to say good-bye .\\nwww'.strip('\\n').split('\\n')\n",
    "create_sentence_pattern_list(test)"
   ]
  },
  {
   "cell_type": "code",
   "execution_count": 7,
   "metadata": {},
   "outputs": [],
   "source": [
    "# Corpus\n",
    "corpus = open('o.txt', 'r').read().strip('\\n').split('\\n')\n",
    "corpus = create_sentence_pattern_list(corpus)"
   ]
  },
  {
   "cell_type": "markdown",
   "metadata": {},
   "source": [
    "- term : ABILITY \n",
    "- grammar : N to v\n",
    "- pattern : its bulk and ability to fly"
   ]
  },
  {
   "cell_type": "code",
   "execution_count": 8,
   "metadata": {},
   "outputs": [],
   "source": [
    "def build_pattern_dict(corpus):\n",
    "    pattern_dict = defaultdict(lambda: defaultdict(list))\n",
    "    for _object in corpus:\n",
    "        sent = _object[0]\n",
    "        for c in _object[1:]:\n",
    "            term, grammar, pattern = c.split('\\t')\n",
    "            pattern_dict[term][grammar] += [pattern]       \n",
    "    return pattern_dict"
   ]
  },
  {
   "cell_type": "code",
   "execution_count": 9,
   "metadata": {},
   "outputs": [],
   "source": [
    "pattern_dict = build_pattern_dict(corpus)"
   ]
  },
  {
   "cell_type": "code",
   "execution_count": 37,
   "metadata": {},
   "outputs": [
    {
     "data": {
      "text/plain": [
       "['useful to have',\n",
       " 'useful to keep',\n",
       " 'useful to have',\n",
       " 'useful to have',\n",
       " 'useful to bring',\n",
       " 'useful to bring along',\n",
       " 'more useful to hand',\n",
       " 'more useful to hand out',\n",
       " 'useful to help',\n",
       " 'useful to be',\n",
       " 'useful to exchange',\n",
       " 'useful to assign',\n",
       " 'useful to know',\n",
       " 'useful to evaluate',\n",
       " 'useful to restrain',\n",
       " 'useful to tune',\n",
       " 'useful to tune up',\n",
       " 'useful to once again make',\n",
       " 'useful to ask',\n",
       " 'useful to work',\n",
       " 'useful to borrow',\n",
       " 'useful to look',\n",
       " 'useful to get',\n",
       " 'useful to indicate',\n",
       " 'useful to have',\n",
       " 'useful to portray',\n",
       " 'useful to remember',\n",
       " 'useful to amass',\n",
       " 'useful to understand',\n",
       " 'useful to understand']"
      ]
     },
     "execution_count": 37,
     "metadata": {},
     "output_type": "execute_result"
    }
   ],
   "source": [
    "pattern_dict['USEFUL']['ADJ to v']"
   ]
  },
  {
   "cell_type": "markdown",
   "metadata": {},
   "source": [
    "- ['ABILITY']['N to v'] 在 corpus 出現 次數"
   ]
  },
  {
   "cell_type": "code",
   "execution_count": 22,
   "metadata": {},
   "outputs": [
    {
     "name": "stdout",
     "output_type": "stream",
     "text": [
      "ADJ in n 18\n",
      "ADJ to v 30\n",
      "ADJ as n 8\n",
      "ADJ for n 20\n",
      "ADJ on n 3\n",
      "ADJ at n 1\n",
      "ADJ to n 14\n",
      "ADJ after n 1\n",
      "ADJ in n with n 1\n",
      "ADJ for n to v 1\n",
      "V to v 1\n"
     ]
    }
   ],
   "source": [
    "for grammar, sentences in pattern_dict['USEFUL'].items():\n",
    "    print(grammar,len(sentences))"
   ]
  },
  {
   "cell_type": "code",
   "execution_count": 32,
   "metadata": {},
   "outputs": [],
   "source": [
    "def computeScore(word, sent):\n",
    "    global PRONS\n",
    "    global HiFreWords\n",
    "    \n",
    "    word = word.lower()\n",
    "    sent = sent.lower().split()\n",
    "    length = len(sent)\n",
    "    \n",
    "    locationOfWord = -1 if word not in sent else sent.index(word) \n",
    "    hiFreWordsScore = len([w for w in sent if w not in HIFREWORDS])\n",
    "    pronsScore = len([w for w in sent if w in PRONS])\n",
    "    \n",
    "    return locationOfWord - hiFreWordsScore - pronsScore"
   ]
  },
  {
   "cell_type": "markdown",
   "metadata": {},
   "source": [
    "![https://zh.wikipedia.org/wiki/%E6%A8%99%E6%BA%96%E5%B7%AE](樣本標準差.png)"
   ]
  },
  {
   "cell_type": "markdown",
   "metadata": {},
   "source": [
    "#### (句數 * 文法長度) 後的值 標準差"
   ]
  },
  {
   "cell_type": "code",
   "execution_count": 71,
   "metadata": {},
   "outputs": [],
   "source": [
    "def get_best_pattern_1(word):\n",
    "    gramma_avg = 0.0\n",
    "    stddev = 0.0\n",
    "    k0 = 1\n",
    "    \n",
    "    word = word.upper()\n",
    "    \n",
    "    print(word)\n",
    "\n",
    "    # Total grammar count for the input word\n",
    "    gramma_count = len(pattern_dict[word].keys())\n",
    "    \n",
    "    if gramma_count == 0:\n",
    "        print('NO RESULT\\n')\n",
    "        return\n",
    "    \n",
    "    gra_score_sum = 0.0\n",
    "\n",
    "    # Calculate sentence length avg of a grammar\n",
    "    for gra, sen_list in pattern_dict[word].items():\n",
    "        sen_count = len(sen_list)\n",
    "        gra_word_len = len(gra.split(' '))\n",
    "        gra_score = sen_count * gra_word_len\n",
    "        gra_score_sum += gra_score\n",
    "    gramma_avg =  gra_score_sum/gramma_count\n",
    "    \n",
    "    # 樣本標準差 分母為 n-1 \n",
    "    if ( gramma_count - 1 ) == 0: \n",
    "        print('NO RESULT\\n')\n",
    "        return\n",
    "\n",
    "    # Calculate stddev\n",
    "    for gramma, sentences in pattern_dict[word].items():\n",
    "        sen_count = len(sentences)\n",
    "        gra_word_len = len(gramma.split(' '))\n",
    "        gra_score = sen_count * gra_word_len\n",
    "        stddev += (gra_score - gramma_avg) ** 2\n",
    "        \n",
    "    stddev = math.sqrt(stddev / gramma_count - 1)\n",
    "        \n",
    "#     if stddev == 0:\n",
    "#         print('NO RESULT\\n')\n",
    "#         return\n",
    "\n",
    "    \n",
    "    # Filter good grammar\n",
    "    for gramma, sentences in pattern_dict[word].items():\n",
    "    \n",
    "        sen_count = len(sentences)\n",
    "        gra_word_len = len(gramma.split(' '))\n",
    "        gra_score = sen_count * gra_word_len\n",
    "        strength = gra_score - stddev * 1\n",
    "        if not strength > k0:\n",
    "            continue\n",
    "            \n",
    "        best_score = -999.9\n",
    "        best_sentence = ''\n",
    "\n",
    "        # Find Good Dictionary Example\n",
    "        for sentence in sentences:\n",
    "            score = computeScore(word, sentence)\n",
    "            if score >= best_score:\n",
    "                best_score = score\n",
    "                best_sentence = sentence\n",
    "\n",
    "        print('%s (%d) %s' % (gramma, sen_count, best_sentence))\n",
    "    print()\n"
   ]
  },
  {
   "cell_type": "markdown",
   "metadata": {},
   "source": [
    "#### 句數作標準差 文法長當加權值 "
   ]
  },
  {
   "cell_type": "code",
   "execution_count": 84,
   "metadata": {},
   "outputs": [],
   "source": [
    "def get_best_pattern_2(word):\n",
    "    gramma_avg = 0.0\n",
    "    stddev = 0.0\n",
    "    k0 = 1\n",
    "    \n",
    "    word = word.upper()\n",
    "    \n",
    "    print(word)\n",
    "\n",
    "    # Total grammar count for the input word\n",
    "    gramma_count = len(pattern_dict[word].keys())\n",
    "    \n",
    "    if gramma_count == 0:\n",
    "        print('NO RESULT\\n')\n",
    "        return\n",
    "    \n",
    "    gra_score_sum = 0.0\n",
    "\n",
    "    # Calculate sentence length avg of a grammar\n",
    "    for gra, sen_list in pattern_dict[word].items():\n",
    "        gra_score = len(sen_list)\n",
    "        gra_score_sum += gra_score\n",
    "    gramma_avg =  gra_score_sum/gramma_count\n",
    "    \n",
    "    # 樣本標準差 分母為 n-1 \n",
    "    if ( gramma_count - 1 ) == 0: \n",
    "        print('NO RESULT\\n')\n",
    "        return\n",
    "\n",
    "    # Calculate stddev\n",
    "    for gramma, sentences in pattern_dict[word].items():\n",
    "        gra_score = len(sentences)\n",
    "        stddev += (gra_score - gramma_avg) ** 2\n",
    "        \n",
    "    stddev = math.sqrt(stddev / gramma_count - 1)\n",
    "        \n",
    "#     if stddev == 0:\n",
    "#         print('NO RESULT\\n')\n",
    "#         return\n",
    "\n",
    "    \n",
    "    # Filter good grammar\n",
    "    for gramma, sentences in pattern_dict[word].items():\n",
    "        sen_count = len(sentences)\n",
    "        gra_word_len = len(gramma.split(' '))\n",
    "        gra_score = sen_count * gra_word_len\n",
    "        strength = gra_score - stddev * 1\n",
    "        if not strength > k0:\n",
    "            continue\n",
    "            \n",
    "        best_score = -999.9\n",
    "        best_sentence = ''\n",
    "\n",
    "        # Find Good Dictionary Example\n",
    "        for sentence in sentences:\n",
    "            score = computeScore(word, sentence)\n",
    "            if score >= best_score:\n",
    "                best_score = score\n",
    "                best_sentence = sentence\n",
    "\n",
    "        print('%s (%d) %s' % (gramma, sen_count, best_sentence))\n",
    "    print()\n"
   ]
  },
  {
   "cell_type": "code",
   "execution_count": 85,
   "metadata": {},
   "outputs": [
    {
     "name": "stdout",
     "output_type": "stream",
     "text": [
      "USEFUL\n",
      "ADJ in n (18) very useful in business\n",
      "ADJ to v (30) useful to have\n",
      "ADJ for n (20) especially useful for batch operations\n",
      "ADJ to n (14) useful to management\n",
      "\n"
     ]
    }
   ],
   "source": [
    "get_best_pattern_1('useful')"
   ]
  },
  {
   "cell_type": "code",
   "execution_count": 86,
   "metadata": {},
   "outputs": [
    {
     "name": "stdout",
     "output_type": "stream",
     "text": [
      "USEFUL\n",
      "ADJ in n (18) very useful in business\n",
      "ADJ to v (30) useful to have\n",
      "ADJ as n (8) useful as a debugging aid\n",
      "ADJ for n (20) especially useful for batch operations\n",
      "ADJ to n (14) useful to management\n",
      "\n"
     ]
    }
   ],
   "source": [
    "get_best_pattern_2('useful')"
   ]
  },
  {
   "cell_type": "code",
   "execution_count": 78,
   "metadata": {},
   "outputs": [
    {
     "name": "stdout",
     "output_type": "stream",
     "text": [
      "ABILITY\n",
      "N to v (468) its bulk and ability to fly\n",
      "\n"
     ]
    }
   ],
   "source": [
    "get_best_pattern_1('ability')"
   ]
  },
  {
   "cell_type": "code",
   "execution_count": 79,
   "metadata": {},
   "outputs": [
    {
     "name": "stdout",
     "output_type": "stream",
     "text": [
      "ABILITY\n",
      "N to v (468) its bulk and ability to fly\n",
      "\n"
     ]
    }
   ],
   "source": [
    "get_best_pattern_2('ability')"
   ]
  },
  {
   "cell_type": "code",
   "execution_count": 80,
   "metadata": {},
   "outputs": [
    {
     "name": "stdout",
     "output_type": "stream",
     "text": [
      "CLASSIFY\n",
      "V into n (8) are classified into groups\n",
      "V as n (12) are classified as action\n",
      "V n (20) can manually classify these content items\n",
      "\n"
     ]
    }
   ],
   "source": [
    "get_best_pattern_1('classify')"
   ]
  },
  {
   "cell_type": "code",
   "execution_count": 81,
   "metadata": {},
   "outputs": [
    {
     "name": "stdout",
     "output_type": "stream",
     "text": [
      "CLASSIFY\n",
      "V by n (3) classified by BS 2916\n",
      "V into n (8) are classified into groups\n",
      "V as n (12) are classified as action\n",
      "V n (20) can manually classify these content items\n",
      "\n"
     ]
    }
   ],
   "source": [
    "get_best_pattern_2('classify')"
   ]
  },
  {
   "cell_type": "code",
   "execution_count": 87,
   "metadata": {},
   "outputs": [
    {
     "name": "stdout",
     "output_type": "stream",
     "text": [
      "DISCUSS\n",
      "V in n (57) will discuss in detail\n",
      "V n (270) concerned may have and discuss them\n",
      "\n"
     ]
    }
   ],
   "source": [
    "get_best_pattern_1('discuss')"
   ]
  },
  {
   "cell_type": "code",
   "execution_count": 88,
   "metadata": {},
   "outputs": [
    {
     "name": "stdout",
     "output_type": "stream",
     "text": [
      "DISCUSS\n",
      "V in n (57) will discuss in detail\n",
      "V n (270) concerned may have and discuss them\n",
      "V adv (31) will discuss later\n",
      "V wh to v (15) discuss how to eliminate\n",
      "\n"
     ]
    }
   ],
   "source": [
    "get_best_pattern_2('discuss')"
   ]
  },
  {
   "cell_type": "markdown",
   "metadata": {},
   "source": [
    "### 以 disscuss 來看 get_best_pattern_2 在篩選時 才去 乘 gramma 長度 ，確實可以將較長的pramma抓出"
   ]
  },
  {
   "cell_type": "code",
   "execution_count": null,
   "metadata": {},
   "outputs": [],
   "source": []
  }
 ],
 "metadata": {
  "kernelspec": {
   "display_name": "Python 3",
   "language": "python",
   "name": "python3"
  },
  "language_info": {
   "codemirror_mode": {
    "name": "ipython",
    "version": 3
   },
   "file_extension": ".py",
   "mimetype": "text/x-python",
   "name": "python",
   "nbconvert_exporter": "python",
   "pygments_lexer": "ipython3",
   "version": "3.6.5"
  }
 },
 "nbformat": 4,
 "nbformat_minor": 2
}
